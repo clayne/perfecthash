{
 "cells": [
  {
   "cell_type": "code",
   "execution_count": 61,
   "metadata": {
    "collapsed": true
   },
   "outputs": [],
   "source": [
    "%matplotlib inline\n",
    "import matplotlib.pyplot as plt\n",
    "plt.style.use('seaborn-white')"
   ]
  },
  {
   "cell_type": "code",
   "execution_count": 22,
   "metadata": {
    "collapsed": true
   },
   "outputs": [],
   "source": [
    "import numpy as np"
   ]
  },
  {
   "cell_type": "code",
   "execution_count": 15,
   "metadata": {
    "collapsed": true
   },
   "outputs": [],
   "source": [
    "with open('mshtml.txt', 'rb') as f:\n",
    "    text = f.read()\n",
    "lines = text.splitlines()"
   ]
  },
  {
   "cell_type": "code",
   "execution_count": 16,
   "metadata": {},
   "outputs": [
    {
     "data": {
      "text/plain": [
       "[b'0x00000030',\n",
       " b'0x00000130',\n",
       " b'0x00000170',\n",
       " b'0x00000310',\n",
       " b'0x00000360',\n",
       " b'0x000003A0',\n",
       " b'0x000004D0',\n",
       " b'0x00000540',\n",
       " b'0x00000590',\n",
       " b'0x000005B0']"
      ]
     },
     "execution_count": 16,
     "metadata": {},
     "output_type": "execute_result"
    }
   ],
   "source": [
    "lines[:10]"
   ]
  },
  {
   "cell_type": "code",
   "execution_count": 18,
   "metadata": {},
   "outputs": [],
   "source": [
    "keys = [ int(line, base=16) for line in lines ]"
   ]
  },
  {
   "cell_type": "code",
   "execution_count": 19,
   "metadata": {},
   "outputs": [
    {
     "data": {
      "text/plain": [
       "37209"
      ]
     },
     "execution_count": 19,
     "metadata": {},
     "output_type": "execute_result"
    }
   ],
   "source": [
    "len(keys)"
   ]
  },
  {
   "cell_type": "code",
   "execution_count": 20,
   "metadata": {},
   "outputs": [
    {
     "data": {
      "text/plain": [
       "[48, 304, 368, 784, 864, 928, 1232, 1344, 1424, 1456]"
      ]
     },
     "execution_count": 20,
     "metadata": {},
     "output_type": "execute_result"
    }
   ],
   "source": [
    "keys[:10]"
   ]
  },
  {
   "cell_type": "code",
   "execution_count": 21,
   "metadata": {},
   "outputs": [
    {
     "data": {
      "text/plain": [
       "[18331304,\n",
       " 18331320,\n",
       " 18331376,\n",
       " 18332384,\n",
       " 21475480,\n",
       " 21475488,\n",
       " 21477776,\n",
       " 21478768,\n",
       " 21478920,\n",
       " 21478984]"
      ]
     },
     "execution_count": 21,
     "metadata": {},
     "output_type": "execute_result"
    }
   ],
   "source": [
    "keys[-10:]"
   ]
  },
  {
   "cell_type": "code",
   "execution_count": 23,
   "metadata": {
    "collapsed": true
   },
   "outputs": [],
   "source": [
    "a1 = np.array(keys)"
   ]
  },
  {
   "cell_type": "code",
   "execution_count": 26,
   "metadata": {},
   "outputs": [],
   "source": [
    "a2 = a1.copy()"
   ]
  },
  {
   "cell_type": "code",
   "execution_count": 27,
   "metadata": {
    "collapsed": true
   },
   "outputs": [],
   "source": [
    "a2.sort()"
   ]
  },
  {
   "cell_type": "code",
   "execution_count": 29,
   "metadata": {},
   "outputs": [
    {
     "data": {
      "text/plain": [
       "True"
      ]
     },
     "execution_count": 29,
     "metadata": {},
     "output_type": "execute_result"
    }
   ],
   "source": [
    "(a1 == a2).all()"
   ]
  },
  {
   "cell_type": "code",
   "execution_count": 31,
   "metadata": {},
   "outputs": [],
   "source": [
    "a1.dtype = 'uint32'"
   ]
  },
  {
   "cell_type": "code",
   "execution_count": 33,
   "metadata": {},
   "outputs": [
    {
     "data": {
      "text/plain": [
       "(48, 21478984)"
      ]
     },
     "execution_count": 33,
     "metadata": {},
     "output_type": "execute_result"
    }
   ],
   "source": [
    "a1.min(), a1.max()"
   ]
  },
  {
   "cell_type": "code",
   "execution_count": 38,
   "metadata": {},
   "outputs": [
    {
     "data": {
      "text/plain": [
       "5"
      ]
     },
     "execution_count": 38,
     "metadata": {},
     "output_type": "execute_result"
    }
   ],
   "source": [
    "np.random.randint(5, 10, size=1, dtype='uint32')[0]"
   ]
  },
  {
   "cell_type": "code",
   "execution_count": 34,
   "metadata": {},
   "outputs": [
    {
     "data": {
      "text/plain": [
       "array([  48,  304,  368,  784,  864,  928, 1232, 1344, 1424, 1456, 1680,\n",
       "       1712, 1728, 1776, 1984, 2432, 2480, 2528, 2576, 2736, 3056, 3088,\n",
       "       3152, 3216, 3280, 3312, 3440, 3552, 3760, 3808, 3888, 3936, 3984,\n",
       "       4096, 4112, 4128, 4144, 4192, 4320, 4336, 4384, 4400, 4432, 4480,\n",
       "       4528, 4544, 4576, 4592, 4608, 4640, 4672, 4704, 4736, 4752, 4768,\n",
       "       4784, 4800, 4816, 4880, 4944, 4992, 5040, 5088, 5104, 5120, 5168,\n",
       "       5200, 5248, 5264, 5344, 5360, 5392, 5408, 5456, 5504, 5552, 5600,\n",
       "       5632, 5664, 5824, 5872, 6160, 6384, 6432, 6480, 6528, 6752, 6784,\n",
       "       6928, 6976, 7024, 7072, 7200, 7216, 7248, 7264, 7376, 7456, 7616,\n",
       "       7664], dtype=uint32)"
      ]
     },
     "execution_count": 34,
     "metadata": {},
     "output_type": "execute_result"
    }
   ],
   "source": [
    "a1[:100]"
   ]
  },
  {
   "cell_type": "code",
   "execution_count": 51,
   "metadata": {
    "collapsed": true
   },
   "outputs": [],
   "source": [
    "def yield_new_values(array):\n",
    "    last = None\n",
    "    randint = np.random.randint\n",
    "    for a in array:\n",
    "        if not last:\n",
    "            yield a\n",
    "            last = a\n",
    "            continue\n",
    "        \n",
    "        diff = a - last\n",
    "        assert diff > 0, (diff, a, last)\n",
    "        if diff <= 3:\n",
    "            last = a\n",
    "            yield a\n",
    "            continue\n",
    "            \n",
    "        new = randint(last+1, a-1, size=1, dtype='uint32')[0]\n",
    "        yield new\n",
    "        yield a\n",
    "        last = a\n",
    "        "
   ]
  },
  {
   "cell_type": "code",
   "execution_count": 75,
   "metadata": {
    "collapsed": true
   },
   "outputs": [],
   "source": [
    "r1 = np.random.randint(0, 10, size=len(a1), dtype='uint8')"
   ]
  },
  {
   "cell_type": "code",
   "execution_count": 76,
   "metadata": {},
   "outputs": [
    {
     "data": {
      "text/plain": [
       "array([6, 6, 3, ..., 8, 2, 4], dtype=uint8)"
      ]
     },
     "execution_count": 76,
     "metadata": {},
     "output_type": "execute_result"
    }
   ],
   "source": [
    "r1"
   ]
  },
  {
   "cell_type": "code",
   "execution_count": 79,
   "metadata": {},
   "outputs": [
    {
     "data": {
      "text/plain": [
       "(array([ 3702.,  3712.,  3732.,  3760.,  3765.,  3673.,  3702.,  3811.,\n",
       "         3686.,  3666.]),\n",
       " array([ 0. ,  0.9,  1.8,  2.7,  3.6,  4.5,  5.4,  6.3,  7.2,  8.1,  9. ]),\n",
       " <a list of 10 Patch objects>)"
      ]
     },
     "execution_count": 79,
     "metadata": {},
     "output_type": "execute_result"
    },
    {
     "data": {
      "image/png": "[encoded data removed]",
      "text/plain": [
       "<matplotlib.figure.Figure at 0x2aa79ffd978>"
      ]
     },
     "metadata": {},
     "output_type": "display_data"
    }
   ],
   "source": [
    "plt.hist(r1, bins=10)"
   ]
  },
  {
   "cell_type": "code",
   "execution_count": 80,
   "metadata": {},
   "outputs": [
    {
     "data": {
      "text/plain": [
       "array([6, 6, 3, 1, 7, 8, 2, 8, 8, 4, 8, 2, 5, 2, 6, 5, 6, 1, 3, 8, 2, 9, 9,\n",
       "       1, 8, 1, 1, 1, 7, 4, 8, 4, 8, 5, 3, 4, 0, 5, 4, 2, 9, 7, 3, 5, 6, 4,\n",
       "       5, 4, 9, 4, 0, 6, 3, 2, 7, 7, 3, 3, 9, 2, 0, 9, 8, 5, 8, 2, 8, 2, 2,\n",
       "       3, 0, 4, 5, 7, 1, 2, 3, 9, 0, 0, 8, 9, 4, 7, 5, 5, 6, 0, 0, 6, 9, 3,\n",
       "       1, 5, 1, 6, 4, 8, 9, 2, 2, 9, 9, 0, 6, 1, 9, 7, 3, 2, 9, 9, 4, 1, 9,\n",
       "       7, 2, 9, 3, 8, 5, 9, 4, 8, 6, 6, 9, 1, 8, 5, 4, 9, 5, 3, 8, 8, 0, 2,\n",
       "       1, 5, 5, 6, 0, 9, 2, 7, 2, 8, 2, 1, 1, 5, 5, 8, 1, 5, 1, 7, 7, 8, 6,\n",
       "       9, 4, 8, 5, 2, 2, 8, 4, 5, 6, 8, 7, 6, 2, 4, 8, 1, 8, 9, 7, 5, 4, 9,\n",
       "       4, 5, 0, 2, 8, 6, 5, 3, 2, 6, 5, 5, 1, 6, 4, 1], dtype=uint8)"
      ]
     },
     "execution_count": 80,
     "metadata": {},
     "output_type": "execute_result"
    }
   ],
   "source": [
    "r1[:200]"
   ]
  },
  {
   "cell_type": "code",
   "execution_count": 81,
   "metadata": {
    "collapsed": true
   },
   "outputs": [],
   "source": [
    "import pandas as pd"
   ]
  },
  {
   "cell_type": "code",
   "execution_count": 82,
   "metadata": {
    "collapsed": true
   },
   "outputs": [],
   "source": [
    "s1 = pd.Series(r1)"
   ]
  },
  {
   "cell_type": "code",
   "execution_count": 83,
   "metadata": {},
   "outputs": [
    {
     "data": {
      "text/plain": [
       "count    37209.000000\n",
       "mean         4.494934\n",
       "std          2.865974\n",
       "min          0.000000\n",
       "25%          2.000000\n",
       "50%          4.000000\n",
       "75%          7.000000\n",
       "max          9.000000\n",
       "dtype: float64"
      ]
     },
     "execution_count": 83,
     "metadata": {},
     "output_type": "execute_result"
    }
   ],
   "source": [
    "s1.describe()"
   ]
  },
  {
   "cell_type": "code",
   "execution_count": 178,
   "metadata": {},
   "outputs": [],
   "source": [
    "(x, y) = np.unique(r1, return_counts=True)"
   ]
  },
  {
   "cell_type": "code",
   "execution_count": 179,
   "metadata": {},
   "outputs": [
    {
     "data": {
      "text/plain": [
       "[<matplotlib.lines.Line2D at 0x2aa7cb179e8>]"
      ]
     },
     "execution_count": 179,
     "metadata": {},
     "output_type": "execute_result"
    },
    {
     "data": {
      "image/png": "[encoded data removed]",
      "text/plain": [
       "<matplotlib.figure.Figure at 0x2aa7cac2ac8>"
      ]
     },
     "metadata": {},
     "output_type": "display_data"
    }
   ],
   "source": [
    "plt.plot(x, y)"
   ]
  },
  {
   "cell_type": "code",
   "execution_count": 180,
   "metadata": {},
   "outputs": [
    {
     "data": {
      "text/plain": [
       "(array([0, 1, 2, 3, 4, 5, 6, 7, 8, 9], dtype=uint8),\n",
       " array([3702, 3712, 3732, 3760, 3765, 3673, 3702, 3811, 3686, 3666], dtype=int64))"
      ]
     },
     "execution_count": 180,
     "metadata": {},
     "output_type": "execute_result"
    }
   ],
   "source": [
    "(x, y)"
   ]
  },
  {
   "cell_type": "code",
   "execution_count": 181,
   "metadata": {},
   "outputs": [
    {
     "data": {
      "text/plain": [
       "<matplotlib.collections.PathCollection at 0x2aa7db569e8>"
      ]
     },
     "execution_count": 181,
     "metadata": {},
     "output_type": "execute_result"
    },
    {
     "data": {
      "image/png": "[encoded data removed]",
      "text/plain": [
       "<matplotlib.figure.Figure at 0x2aa7cb35320>"
      ]
     },
     "metadata": {},
     "output_type": "display_data"
    }
   ],
   "source": [
    "plt.scatter(x, y)"
   ]
  },
  {
   "cell_type": "code",
   "execution_count": 93,
   "metadata": {},
   "outputs": [
    {
     "data": {
      "text/plain": [
       "(array([ 3052.,   724.,  5224.,   190.,  2468.,  1182.,  1622.,  1865.,\n",
       "         1680.,  2022.,  1781.,  2519.,  3434.,  1412.,   674.,   855.,\n",
       "          657.,  2056.,  1765.,   706.,   873.,   436.,     0.,     0.,\n",
       "            0.,     6.,     0.,     0.,     0.,     6.]),\n",
       " array([  4.80000000e+01,   7.16012533e+05,   1.43197707e+06,\n",
       "          2.14794160e+06,   2.86390613e+06,   3.57987067e+06,\n",
       "          4.29583520e+06,   5.01179973e+06,   5.72776427e+06,\n",
       "          6.44372880e+06,   7.15969333e+06,   7.87565787e+06,\n",
       "          8.59162240e+06,   9.30758693e+06,   1.00235515e+07,\n",
       "          1.07395160e+07,   1.14554805e+07,   1.21714451e+07,\n",
       "          1.28874096e+07,   1.36033741e+07,   1.43193387e+07,\n",
       "          1.50353032e+07,   1.57512677e+07,   1.64672323e+07,\n",
       "          1.71831968e+07,   1.78991613e+07,   1.86151259e+07,\n",
       "          1.93310904e+07,   2.00470549e+07,   2.07630195e+07,\n",
       "          2.14789840e+07]),\n",
       " <a list of 30 Patch objects>)"
      ]
     },
     "execution_count": 93,
     "metadata": {},
     "output_type": "execute_result"
    },
    {
     "data": {
      "image/png": "[encoded data removed]",
      "text/plain": [
       "<matplotlib.figure.Figure at 0x2aa7aff57b8>"
      ]
     },
     "metadata": {},
     "output_type": "display_data"
    }
   ],
   "source": [
    "plt.hist(a1, bins=30)"
   ]
  },
  {
   "cell_type": "code",
   "execution_count": 94,
   "metadata": {
    "collapsed": true
   },
   "outputs": [],
   "source": [
    "a2 = a1 + r1"
   ]
  },
  {
   "cell_type": "code",
   "execution_count": 107,
   "metadata": {},
   "outputs": [
    {
     "data": {
      "text/plain": [
       "array([      54,      310,      371, ..., 21478776, 21478922, 21478988], dtype=uint32)"
      ]
     },
     "execution_count": 107,
     "metadata": {},
     "output_type": "execute_result"
    }
   ],
   "source": [
    "a2"
   ]
  },
  {
   "cell_type": "code",
   "execution_count": 95,
   "metadata": {},
   "outputs": [
    {
     "data": {
      "text/plain": [
       "37209"
      ]
     },
     "execution_count": 95,
     "metadata": {},
     "output_type": "execute_result"
    }
   ],
   "source": [
    "len(a2)"
   ]
  },
  {
   "cell_type": "code",
   "execution_count": 96,
   "metadata": {},
   "outputs": [
    {
     "data": {
      "text/plain": [
       "(array([ 3052.,   724.,  5224.,   190.,  2468.,  1182.,  1622.,  1865.,\n",
       "         1680.,  2022.,  1781.,  2519.,  3434.,  1412.,   674.,   855.,\n",
       "          657.,  2056.,  1765.,   706.,   873.,   436.,     0.,     0.,\n",
       "            0.,     6.,     0.,     0.,     0.,     6.]),\n",
       " array([  5.40000000e+01,   7.16018467e+05,   1.43198293e+06,\n",
       "          2.14794740e+06,   2.86391187e+06,   3.57987633e+06,\n",
       "          4.29584080e+06,   5.01180527e+06,   5.72776973e+06,\n",
       "          6.44373420e+06,   7.15969867e+06,   7.87566313e+06,\n",
       "          8.59162760e+06,   9.30759207e+06,   1.00235565e+07,\n",
       "          1.07395210e+07,   1.14554855e+07,   1.21714499e+07,\n",
       "          1.28874144e+07,   1.36033789e+07,   1.43193433e+07,\n",
       "          1.50353078e+07,   1.57512723e+07,   1.64672367e+07,\n",
       "          1.71832012e+07,   1.78991657e+07,   1.86151301e+07,\n",
       "          1.93310946e+07,   2.00470591e+07,   2.07630235e+07,\n",
       "          2.14789880e+07]),\n",
       " <a list of 30 Patch objects>)"
      ]
     },
     "execution_count": 96,
     "metadata": {},
     "output_type": "execute_result"
    },
    {
     "data": {
      "image/png": "[encoded data removed]",
      "text/plain": [
       "<matplotlib.figure.Figure at 0x2aa7aff5668>"
      ]
     },
     "metadata": {},
     "output_type": "display_data"
    }
   ],
   "source": [
    "plt.hist(a2, bins=30)"
   ]
  },
  {
   "cell_type": "code",
   "execution_count": 97,
   "metadata": {
    "collapsed": true
   },
   "outputs": [],
   "source": [
    "s = [ int(str(i)[0]) for i in a2 ]"
   ]
  },
  {
   "cell_type": "code",
   "execution_count": 98,
   "metadata": {},
   "outputs": [
    {
     "data": {
      "text/plain": [
       "37209"
      ]
     },
     "execution_count": 98,
     "metadata": {},
     "output_type": "execute_result"
    }
   ],
   "source": [
    "len(s)"
   ]
  },
  {
   "cell_type": "code",
   "execution_count": 108,
   "metadata": {},
   "outputs": [
    {
     "data": {
      "text/plain": [
       "array([  54,  310,  371,  785,  871,  936, 1234, 1352, 1432, 1460], dtype=uint32)"
      ]
     },
     "execution_count": 108,
     "metadata": {},
     "output_type": "execute_result"
    }
   ],
   "source": [
    "a2[:10]"
   ]
  },
  {
   "cell_type": "code",
   "execution_count": 109,
   "metadata": {},
   "outputs": [
    {
     "data": {
      "text/plain": [
       "array([6, 6, 3, 1, 7, 8, 2, 8, 8, 4], dtype=uint8)"
      ]
     },
     "execution_count": 109,
     "metadata": {},
     "output_type": "execute_result"
    }
   ],
   "source": [
    "r1[:10]"
   ]
  },
  {
   "cell_type": "code",
   "execution_count": 99,
   "metadata": {},
   "outputs": [
    {
     "data": {
      "text/plain": [
       "[5, 3, 3, 7, 8, 9, 1, 1, 1, 1]"
      ]
     },
     "execution_count": 99,
     "metadata": {},
     "output_type": "execute_result"
    }
   ],
   "source": [
    "s[:10]"
   ]
  },
  {
   "cell_type": "code",
   "execution_count": 126,
   "metadata": {},
   "outputs": [
    {
     "data": {
      "text/plain": [
       "array([      48,      304,      368, ..., 21478768, 21478920, 21478984], dtype=uint32)"
      ]
     },
     "execution_count": 126,
     "metadata": {},
     "output_type": "execute_result"
    }
   ],
   "source": [
    "a1"
   ]
  },
  {
   "cell_type": "code",
   "execution_count": 127,
   "metadata": {
    "collapsed": true
   },
   "outputs": [],
   "source": [
    "zeroes = []\n",
    "def blend_values(array, rand):\n",
    "    for (a, r) in zip(array, rand):\n",
    "        \n",
    "        s = str(a)\n",
    "        c = s[-1]\n",
    "        if c == '0':\n",
    "            zeroes.append(a)\n",
    "            yield a\n",
    "        else:\n",
    "            yield int(''.join((s[:-1], str(r))))\n"
   ]
  },
  {
   "cell_type": "code",
   "execution_count": 136,
   "metadata": {
    "collapsed": true
   },
   "outputs": [],
   "source": [
    "def blend_values(array, rand):\n",
    "    for (a, r) in zip(array, rand):      \n",
    "        s = str(a)\n",
    "        yield int(''.join((s[:-1], str(r))))"
   ]
  },
  {
   "cell_type": "code",
   "execution_count": 137,
   "metadata": {},
   "outputs": [],
   "source": [
    "a2 = np.array([ i for i in blend_values(a1, r1) ])"
   ]
  },
  {
   "cell_type": "code",
   "execution_count": 152,
   "metadata": {
    "collapsed": true
   },
   "outputs": [],
   "source": [
    "a3 = a2.copy()"
   ]
  },
  {
   "cell_type": "code",
   "execution_count": 153,
   "metadata": {
    "collapsed": true
   },
   "outputs": [],
   "source": [
    "a3.sort()"
   ]
  },
  {
   "cell_type": "code",
   "execution_count": 155,
   "metadata": {},
   "outputs": [
    {
     "data": {
      "text/plain": [
       "True"
      ]
     },
     "execution_count": 155,
     "metadata": {},
     "output_type": "execute_result"
    }
   ],
   "source": [
    "(a2 == a3).all()"
   ]
  },
  {
   "cell_type": "code",
   "execution_count": 138,
   "metadata": {},
   "outputs": [
    {
     "data": {
      "text/plain": [
       "array([      46,      306,      363, ..., 21478768, 21478922, 21478984])"
      ]
     },
     "execution_count": 138,
     "metadata": {},
     "output_type": "execute_result"
    }
   ],
   "source": [
    "a2"
   ]
  },
  {
   "cell_type": "code",
   "execution_count": 139,
   "metadata": {
    "collapsed": true
   },
   "outputs": [],
   "source": [
    "s = [ int(str(i)[-1]) for i in a2 ]"
   ]
  },
  {
   "cell_type": "code",
   "execution_count": 140,
   "metadata": {
    "collapsed": true
   },
   "outputs": [],
   "source": [
    "sa = np.array(s, dtype='uint8')"
   ]
  },
  {
   "cell_type": "code",
   "execution_count": 141,
   "metadata": {},
   "outputs": [
    {
     "data": {
      "text/plain": [
       "array([6, 6, 3, ..., 8, 2, 4], dtype=uint8)"
      ]
     },
     "execution_count": 141,
     "metadata": {},
     "output_type": "execute_result"
    }
   ],
   "source": [
    "sa"
   ]
  },
  {
   "cell_type": "code",
   "execution_count": 142,
   "metadata": {},
   "outputs": [
    {
     "data": {
      "text/plain": [
       "(array([ 3702.,  3712.,  3732.,  3760.,  3765.,  3673.,  3702.,  3811.,\n",
       "         3686.,  3666.]),\n",
       " array([ 0. ,  0.9,  1.8,  2.7,  3.6,  4.5,  5.4,  6.3,  7.2,  8.1,  9. ]),\n",
       " <a list of 10 Patch objects>)"
      ]
     },
     "execution_count": 142,
     "metadata": {},
     "output_type": "execute_result"
    },
    {
     "data": {
      "image/png": "[encoded data removed]",
      "text/plain": [
       "<matplotlib.figure.Figure at 0x2aa7c51bdd8>"
      ]
     },
     "metadata": {},
     "output_type": "display_data"
    }
   ],
   "source": [
    "plt.hist(sa)"
   ]
  },
  {
   "cell_type": "code",
   "execution_count": 143,
   "metadata": {},
   "outputs": [
    {
     "data": {
      "text/plain": [
       "(array([0, 1, 2, 3, 4, 5, 6, 7, 8, 9], dtype=uint8),\n",
       " array([3702, 3712, 3732, 3760, 3765, 3673, 3702, 3811, 3686, 3666], dtype=int64))"
      ]
     },
     "execution_count": 143,
     "metadata": {},
     "output_type": "execute_result"
    }
   ],
   "source": [
    "np.unique(sa, return_counts=True)"
   ]
  },
  {
   "cell_type": "code",
   "execution_count": 144,
   "metadata": {},
   "outputs": [
    {
     "data": {
      "text/plain": [
       "'0000000046'"
      ]
     },
     "execution_count": 144,
     "metadata": {},
     "output_type": "execute_result"
    }
   ],
   "source": [
    "str(a2[0]).zfill(10)"
   ]
  },
  {
   "cell_type": "code",
   "execution_count": 147,
   "metadata": {
    "collapsed": true
   },
   "outputs": [],
   "source": [
    "l = [ str(i).zfill(10) for i in a2 ]"
   ]
  },
  {
   "cell_type": "code",
   "execution_count": 148,
   "metadata": {
    "collapsed": true
   },
   "outputs": [],
   "source": [
    "text2 = '\\n'.join(l)"
   ]
  },
  {
   "cell_type": "code",
   "execution_count": 150,
   "metadata": {
    "collapsed": true
   },
   "outputs": [],
   "source": [
    "x = text2.encode('ascii')"
   ]
  },
  {
   "cell_type": "code",
   "execution_count": 151,
   "metadata": {},
   "outputs": [
    {
     "data": {
      "text/plain": [
       "b'0000000046\\n0000000306\\n0000000363\\n0000000781\\n0000000867\\n0000000928\\n0000001232\\n0000001348\\n0000001428\\n0'"
      ]
     },
     "execution_count": 151,
     "metadata": {},
     "output_type": "execute_result"
    }
   ],
   "source": [
    "x[:100]"
   ]
  },
  {
   "cell_type": "code",
   "execution_count": 156,
   "metadata": {},
   "outputs": [],
   "source": [
    "with open('mshtml-1.txt', 'wb') as f:\n",
    "    f.write(text2.encode('ascii'))"
   ]
  },
  {
   "cell_type": "code",
   "execution_count": 157,
   "metadata": {},
   "outputs": [
    {
     "data": {
      "text/plain": [
       "(37209,)"
      ]
     },
     "execution_count": 157,
     "metadata": {},
     "output_type": "execute_result"
    }
   ],
   "source": [
    "a2.shape"
   ]
  },
  {
   "cell_type": "code",
   "execution_count": 158,
   "metadata": {
    "collapsed": true
   },
   "outputs": [],
   "source": [
    "def next_power_of_2(x):\n",
    "    return 1<<(x-1).bit_length()"
   ]
  },
  {
   "cell_type": "code",
   "execution_count": 161,
   "metadata": {},
   "outputs": [
    {
     "data": {
      "text/plain": [
       "65536"
      ]
     },
     "execution_count": 161,
     "metadata": {},
     "output_type": "execute_result"
    }
   ],
   "source": [
    "next_power_of_2(a2.shape[0])"
   ]
  },
  {
   "cell_type": "code",
   "execution_count": 162,
   "metadata": {
    "collapsed": true
   },
   "outputs": [],
   "source": [
    "fp = np.memmap('mshtml.bin', dtype='uint32', mode='w+', shape=a2.shape)"
   ]
  },
  {
   "cell_type": "code",
   "execution_count": 163,
   "metadata": {
    "collapsed": true
   },
   "outputs": [],
   "source": [
    "fp[:] = a2[:]"
   ]
  },
  {
   "cell_type": "code",
   "execution_count": 164,
   "metadata": {},
   "outputs": [
    {
     "data": {
      "text/plain": [
       "memmap([      46,      306,      363, ..., 21478768, 21478922, 21478984], dtype=uint32)"
      ]
     },
     "execution_count": 164,
     "metadata": {},
     "output_type": "execute_result"
    }
   ],
   "source": [
    "fp"
   ]
  },
  {
   "cell_type": "code",
   "execution_count": 165,
   "metadata": {
    "collapsed": true
   },
   "outputs": [],
   "source": [
    "del fp"
   ]
  },
  {
   "cell_type": "code",
   "execution_count": 166,
   "metadata": {
    "collapsed": true
   },
   "outputs": [],
   "source": [
    "fp = np.memmap('mshtml.bin', dtype='uint32', mode='r')"
   ]
  },
  {
   "cell_type": "code",
   "execution_count": 167,
   "metadata": {},
   "outputs": [
    {
     "data": {
      "text/plain": [
       "memmap([      46,      306,      363, ..., 21478768, 21478922, 21478984], dtype=uint32)"
      ]
     },
     "execution_count": 167,
     "metadata": {},
     "output_type": "execute_result"
    }
   ],
   "source": [
    "fp"
   ]
  },
  {
   "cell_type": "code",
   "execution_count": 168,
   "metadata": {
    "collapsed": true
   },
   "outputs": [],
   "source": [
    "a2m = np.array(fp)"
   ]
  },
  {
   "cell_type": "code",
   "execution_count": 169,
   "metadata": {},
   "outputs": [
    {
     "data": {
      "text/plain": [
       "array([      46,      306,      363, ..., 21478768, 21478922, 21478984], dtype=uint32)"
      ]
     },
     "execution_count": 169,
     "metadata": {},
     "output_type": "execute_result"
    }
   ],
   "source": [
    "a2m"
   ]
  },
  {
   "cell_type": "code",
   "execution_count": 170,
   "metadata": {},
   "outputs": [
    {
     "data": {
      "text/plain": [
       "True"
      ]
     },
     "execution_count": 170,
     "metadata": {},
     "output_type": "execute_result"
    }
   ],
   "source": [
    "(a2 == a2m).all()"
   ]
  },
  {
   "cell_type": "code",
   "execution_count": 171,
   "metadata": {},
   "outputs": [
    {
     "data": {
      "text/plain": [
       "37209.0"
      ]
     },
     "execution_count": 171,
     "metadata": {},
     "output_type": "execute_result"
    }
   ],
   "source": [
    "148836 / 4"
   ]
  },
  {
   "cell_type": "code",
   "execution_count": null,
   "metadata": {
    "collapsed": true
   },
   "outputs": [],
   "source": [
    " "
   ]
  }
 ],
 "metadata": {
  "kernelspec": {
   "display_name": "Python 3",
   "language": "python",
   "name": "python3"
  },
  "language_info": {
   "codemirror_mode": {
    "name": "ipython",
    "version": 3
   },
   "file_extension": ".py",
   "mimetype": "text/x-python",
   "name": "python",
   "nbconvert_exporter": "python",
   "pygments_lexer": "ipython3",
   "version": "3.5.3"
  }
 },
 "nbformat": 4,
 "nbformat_minor": 2
}
