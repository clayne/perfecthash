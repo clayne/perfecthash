{
 "cells": [
  {
   "cell_type": "code",
   "execution_count": 12,
   "metadata": {},
   "outputs": [],
   "source": [
    "from tpn.clipboard import *"
   ]
  },
  {
   "cell_type": "code",
   "execution_count": 27,
   "metadata": {},
   "outputs": [],
   "source": [
    "hash_functions = [\n",
    "    'Jenkins',\n",
    "    'RotateMultiplyXorRotate',\n",
    "    'RotateMultiplyXorRotate2',\n",
    "    'ShiftMultiplyXorShift',\n",
    "    'ShiftMultiplyXorShift2',\n",
    "    'MultiplyRotateR',\n",
    "    'MultiplyRotateLR',\n",
    "    'MultiplyShiftR',\n",
    "]\n",
    "\n",
    "best_coverage_types = [\n",
    "    'HighestNumberOfEmptyCacheLines',\n",
    "    'HighestMaxGraphTraversalDepth',\n",
    "    'HighestTotalGraphTraversals',\n",
    "    'HighestMaxAssignedPerCacheLineCount',\n",
    "    'LowestNumberOfEmptyCacheLines',\n",
    "    'LowestMaxGraphTraversalDepth',\n",
    "    'LowestTotalGraphTraversals',\n",
    "    'LowestMaxAssignedPerCacheLineCount',\n",
    "]"
   ]
  },
  {
   "cell_type": "code",
   "execution_count": 56,
   "metadata": {},
   "outputs": [],
   "source": [
    "def get_command_line(hash_func, best_coverage_type, keys_base_dir, keys_name, output_base_dir, concurrency):\n",
    "    return f\"\"\"\\\n",
    "echo Started %date% %time%\n",
    "timemem PerfectHashBulkCreate.exe {keys_base_dir}\\\\{keys_name} {output_base_dir}\\\\{keys_name} Chm01 {hash_func} And {concurrency} --AttemptsBeforeTableResize=100000000000 --MaxNumberOfTableResizes=0 --BestCoverageType={best_coverage_type} --BestCoverageAttempts=1000000 --FindBestGraph --MainWorkThreadpoolPriority=Low --NoFileIo --TryLargePagesForKeysData --TryLargePagesForTableData --TryLargePagesForValuesArray\n",
    "echo Finished %date% %time%\n",
    "\n",
    " \"\"\""
   ]
  },
  {
   "cell_type": "code",
   "execution_count": 57,
   "metadata": {},
   "outputs": [],
   "source": [
    "config = {\n",
    "    'viper': {\n",
    "        'keys_base_dir': 'd:\\\\src\\\\perfecthash-keys',\n",
    "        'output_base_dir': 'd:\\\\ph',\n",
    "        'concurrency': 22,\n",
    "        'hash_func': 'Jenkins',\n",
    "    },\n",
    "    'tomcat': {\n",
    "        'keys_base_dir': 'c:\\\\src\\\\perfecthash-keys',\n",
    "        'output_base_dir': 'c:\\\\ph',\n",
    "        'concurrency': 11,\n",
    "        'hash_func': 'RotateMultiplyXorRotate',\n",
    "    },\n",
    "    'tn10': {\n",
    "        'keys_base_dir': 'c:\\\\src\\\\perfecthash-keys',\n",
    "        'output_base_dir': 'e:\\\\ph',\n",
    "        'concurrency': 30,\n",
    "        'hash_func': 'RotateMultiplyXorRotate2',\n",
    "    },\n",
    "    'tn11': {\n",
    "        'keys_base_dir': 'c:\\\\src\\\\perfecthash-keys',\n",
    "        'output_base_dir': 'g:\\\\ph',\n",
    "        'concurrency': 31,\n",
    "        #'hash_func': 'ShiftMultiplyXorShift',\n",
    "        'hash_func': 'Jenkins',\n",
    "    },\n",
    "    'zoom': {\n",
    "        'keys_base_dir': 'c:\\\\src\\\\perfecthash-keys',\n",
    "        'output_base_dir': 'd:\\\\ph',\n",
    "        'concurrency': 30,\n",
    "        'hash_func': 'ShiftMultiplyXorShift2',        \n",
    "    },\n",
    "    'cougar': {\n",
    "        'keys_base_dir': 'c:\\\\src\\\\perfecthash-keys',\n",
    "        'output_base_dir': 'e:\\\\ph',\n",
    "        'concurrency': 30,\n",
    "        'hash_func': 'MultiplyRotateLR',\n",
    "    },\n",
    "    'avx512': {\n",
    "        'keys_base_dir': 'c:\\\\src\\\\perfecthash-keys',\n",
    "        'output_base_dir': 'c:\\\\ph',\n",
    "        'concurrency': 8,\n",
    "        'hash_func': 'MultiplyRotateR',\n",
    "    },\n",
    "}\n",
    "\n"
   ]
  },
  {
   "cell_type": "code",
   "execution_count": 60,
   "metadata": {},
   "outputs": [],
   "source": [
    "def gen_commands(host, group, linesep='\\n'):\n",
    "    commands = []\n",
    "    c = config[host]\n",
    "    for best_coverage_type in best_coverage_types:\n",
    "        command = get_command_line(\n",
    "            c['hash_func'],\n",
    "            best_coverage_type,\n",
    "            c['keys_base_dir'],\n",
    "            group,\n",
    "            c['output_base_dir'],\n",
    "            c['concurrency']\n",
    "        )\n",
    "        commands.append(command)\n",
    "    return linesep.join(commands)  "
   ]
  },
  {
   "cell_type": "code",
   "execution_count": 59,
   "metadata": {},
   "outputs": [
    {
     "name": "stdout",
     "output_type": "stream",
     "text": [
      "copied 3636 characters into clipboard...\n"
     ]
    },
    {
     "data": {
      "text/plain": [
       "'echo Started %date% %time%\\r\\ntimemem PerfectHashBulkCreate.exe c:\\\\src\\\\perfecthash-keys\\\\sys32 g:\\\\ph\\\\sys32 Chm01 Jenkins And 31 --AttemptsBeforeTableResize=100000000000 --MaxNumberOfTableResizes=0 --BestCoverageType=HighestNumberOfEmptyCacheLines --BestCoverageAttempts=1000000 --FindBestGraph --MainWorkThreadpoolPriority=Low --NoFileIo --TryLargePagesForKeysData --TryLargePagesForTableData --TryLargePagesForValuesArray\\r\\necho Finished %date% %time%\\r\\n\\r\\n \\r\\necho Started %date% %time%\\r\\ntimemem PerfectHashBulkCreate.exe c:\\\\src\\\\perfecthash-keys\\\\sys32 g:\\\\ph\\\\sys32 Chm01 Jenkins And 31 --AttemptsBeforeTableResize=100000000000 --MaxNumberOfTableResizes=0 --BestCoverageType=HighestMaxGraphTraversalDepth --BestCoverageAttempts=1000000 --FindBestGraph --MainWorkThreadpoolPriority=Low --NoFileIo --TryLargePagesForKeysData --TryLargePagesForTableData --TryLargePagesForValuesArray\\r\\necho Finished %date% %time%\\r\\n\\r\\n \\r\\necho Started %date% %time%\\r\\ntimemem PerfectHashBulkCreate.exe c:\\\\src\\\\perfecthash-keys\\\\sys32 g:\\\\ph\\\\sys32 Chm01 Jenkins And 31 --AttemptsBeforeTableResize=100000000000 --MaxNumberOfTableResizes=0 --BestCoverageType=HighestTotalGraphTraversals --BestCoverageAttempts=1000000 --FindBestGraph --MainWorkThreadpoolPriority=Low --NoFileIo --TryLargePagesForKeysData --TryLargePagesForTableData --TryLargePagesForValuesArray\\r\\necho Finished %date% %time%\\r\\n\\r\\n \\r\\necho Started %date% %time%\\r\\ntimemem PerfectHashBulkCreate.exe c:\\\\src\\\\perfecthash-keys\\\\sys32 g:\\\\ph\\\\sys32 Chm01 Jenkins And 31 --AttemptsBeforeTableResize=100000000000 --MaxNumberOfTableResizes=0 --BestCoverageType=HighestMaxAssignedPerCacheLineCount --BestCoverageAttempts=1000000 --FindBestGraph --MainWorkThreadpoolPriority=Low --NoFileIo --TryLargePagesForKeysData --TryLargePagesForTableData --TryLargePagesForValuesArray\\r\\necho Finished %date% %time%\\r\\n\\r\\n \\r\\necho Started %date% %time%\\r\\ntimemem PerfectHashBulkCreate.exe c:\\\\src\\\\perfecthash-keys\\\\sys32 g:\\\\ph\\\\sys32 Chm01 Jenkins And 31 --AttemptsBeforeTableResize=100000000000 --MaxNumberOfTableResizes=0 --BestCoverageType=LowestNumberOfEmptyCacheLines --BestCoverageAttempts=1000000 --FindBestGraph --MainWorkThreadpoolPriority=Low --NoFileIo --TryLargePagesForKeysData --TryLargePagesForTableData --TryLargePagesForValuesArray\\r\\necho Finished %date% %time%\\r\\n\\r\\n \\r\\necho Started %date% %time%\\r\\ntimemem PerfectHashBulkCreate.exe c:\\\\src\\\\perfecthash-keys\\\\sys32 g:\\\\ph\\\\sys32 Chm01 Jenkins And 31 --AttemptsBeforeTableResize=100000000000 --MaxNumberOfTableResizes=0 --BestCoverageType=LowestMaxGraphTraversalDepth --BestCoverageAttempts=1000000 --FindBestGraph --MainWorkThreadpoolPriority=Low --NoFileIo --TryLargePagesForKeysData --TryLargePagesForTableData --TryLargePagesForValuesArray\\r\\necho Finished %date% %time%\\r\\n\\r\\n \\r\\necho Started %date% %time%\\r\\ntimemem PerfectHashBulkCreate.exe c:\\\\src\\\\perfecthash-keys\\\\sys32 g:\\\\ph\\\\sys32 Chm01 Jenkins And 31 --AttemptsBeforeTableResize=100000000000 --MaxNumberOfTableResizes=0 --BestCoverageType=LowestTotalGraphTraversals --BestCoverageAttempts=1000000 --FindBestGraph --MainWorkThreadpoolPriority=Low --NoFileIo --TryLargePagesForKeysData --TryLargePagesForTableData --TryLargePagesForValuesArray\\r\\necho Finished %date% %time%\\r\\n\\r\\n \\r\\necho Started %date% %time%\\r\\ntimemem PerfectHashBulkCreate.exe c:\\\\src\\\\perfecthash-keys\\\\sys32 g:\\\\ph\\\\sys32 Chm01 Jenkins And 31 --AttemptsBeforeTableResize=100000000000 --MaxNumberOfTableResizes=0 --BestCoverageType=LowestMaxAssignedPerCacheLineCount --BestCoverageAttempts=1000000 --FindBestGraph --MainWorkThreadpoolPriority=Low --NoFileIo --TryLargePagesForKeysData --TryLargePagesForTableData --TryLargePagesForValuesArray\\r\\necho Finished %date% %time%\\r\\n\\r\\n '"
      ]
     },
     "execution_count": 59,
     "metadata": {},
     "output_type": "execute_result"
    }
   ],
   "source": [
    "cb(gen_commands('tn11').replace('\\n', '\\r\\n'))"
   ]
  },
  {
   "cell_type": "code",
   "execution_count": 52,
   "metadata": {},
   "outputs": [
    {
     "data": {
      "text/plain": [
       "5.225694444444445"
      ]
     },
     "execution_count": 52,
     "metadata": {},
     "output_type": "execute_result"
    }
   ],
   "source": [
    "18812.5 / 60.0 / 60.0\n"
   ]
  },
  {
   "cell_type": "code",
   "execution_count": null,
   "metadata": {},
   "outputs": [],
   "source": []
  }
 ],
 "metadata": {
  "kernelspec": {
   "display_name": "Python 3",
   "language": "python",
   "name": "python3"
  },
  "language_info": {
   "codemirror_mode": {
    "name": "ipython",
    "version": 3
   },
   "file_extension": ".py",
   "mimetype": "text/x-python",
   "name": "python",
   "nbconvert_exporter": "python",
   "pygments_lexer": "ipython3",
   "version": "3.6.7"
  }
 },
 "nbformat": 4,
 "nbformat_minor": 2
}
