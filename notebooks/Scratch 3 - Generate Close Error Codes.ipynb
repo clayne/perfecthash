{
 "cells": [
  {
   "cell_type": "code",
   "execution_count": 1,
   "metadata": {
    "collapsed": true
   },
   "outputs": [],
   "source": [
    "text = r\"\"\"\\\n",
    "1>c:\\users\\trent\\home\\src\\perfecthash\\src\\perfecthash\\chm01.c(930): error C2065: 'PH_E_ERROR_DURING_CLOSE_TABLE_FILE': undeclared identifier\n",
    "1>c:\\users\\trent\\home\\src\\perfecthash\\src\\perfecthash\\chm01.c(930): error C2065: 'PH_E_ERROR_DURING_CLOSE_TABLE_INFO_STREAM': undeclared identifier\n",
    "1>c:\\users\\trent\\home\\src\\perfecthash\\src\\perfecthash\\chm01.c(930): error C2065: 'PH_E_ERROR_DURING_CLOSE_C_HEADER_FILE': undeclared identifier\n",
    "1>c:\\users\\trent\\home\\src\\perfecthash\\src\\perfecthash\\chm01.c(930): error C2065: 'PH_E_ERROR_DURING_CLOSE_C_SOURCE_FILE': undeclared identifier\n",
    "1>c:\\users\\trent\\home\\src\\perfecthash\\src\\perfecthash\\chm01.c(930): error C2065: 'PH_E_ERROR_DURING_CLOSE_C_HEADER_STDAFX_FILE': undeclared identifier\n",
    "1>c:\\users\\trent\\home\\src\\perfecthash\\src\\perfecthash\\chm01.c(930): error C2065: 'PH_E_ERROR_DURING_CLOSE_C_SOURCE_STDAFX_FILE': undeclared identifier\n",
    "1>c:\\users\\trent\\home\\src\\perfecthash\\src\\perfecthash\\chm01.c(930): error C2065: 'PH_E_ERROR_DURING_CLOSE_C_SOURCE_KEYS_FILE': undeclared identifier\n",
    "1>c:\\users\\trent\\home\\src\\perfecthash\\src\\perfecthash\\chm01.c(930): error C2065: 'PH_E_ERROR_DURING_CLOSE_C_SOURCE_TABLE_DATA_FILE': undeclared identifier\n",
    "1>c:\\users\\trent\\home\\src\\perfecthash\\src\\perfecthash\\chm01.c(930): error C2065: 'PH_E_ERROR_DURING_CLOSE_C_HEADER_SUPPORT_FILE': undeclared identifier\n",
    "1>c:\\users\\trent\\home\\src\\perfecthash\\src\\perfecthash\\chm01.c(930): error C2065: 'PH_E_ERROR_DURING_CLOSE_C_SOURCE_SUPPORT_FILE': undeclared identifier\n",
    "1>c:\\users\\trent\\home\\src\\perfecthash\\src\\perfecthash\\chm01.c(930): error C2065: 'PH_E_ERROR_DURING_CLOSE_C_SOURCE_TEST_FILE': undeclared identifier\n",
    "1>c:\\users\\trent\\home\\src\\perfecthash\\src\\perfecthash\\chm01.c(930): error C2065: 'PH_E_ERROR_DURING_CLOSE_C_SOURCE_TEST_EXE_FILE': undeclared identifier\n",
    "1>c:\\users\\trent\\home\\src\\perfecthash\\src\\perfecthash\\chm01.c(930): error C2065: 'PH_E_ERROR_DURING_CLOSE_C_SOURCE_BENCHMARK_FULL_FILE': undeclared identifier\n",
    "1>c:\\users\\trent\\home\\src\\perfecthash\\src\\perfecthash\\chm01.c(930): error C2065: 'PH_E_ERROR_DURING_CLOSE_C_SOURCE_BENCHMARK_FULL_EXE_FILE': undeclared identifier\n",
    "1>c:\\users\\trent\\home\\src\\perfecthash\\src\\perfecthash\\chm01.c(930): error C2065: 'PH_E_ERROR_DURING_CLOSE_C_SOURCE_BENCHMARK_INDEX_FILE': undeclared identifier\n",
    "1>c:\\users\\trent\\home\\src\\perfecthash\\src\\perfecthash\\chm01.c(930): error C2065: 'PH_E_ERROR_DURING_CLOSE_C_SOURCE_BENCHMARK_INDEX_EXE_FILE': undeclared identifier\n",
    "1>c:\\users\\trent\\home\\src\\perfecthash\\src\\perfecthash\\chm01.c(930): error C2065: 'PH_E_ERROR_DURING_CLOSE_VCPROJECT_DLL_FILE': undeclared identifier\n",
    "1>c:\\users\\trent\\home\\src\\perfecthash\\src\\perfecthash\\chm01.c(930): error C2065: 'PH_E_ERROR_DURING_CLOSE_VCPROJECT_TEST_EXE_FILE': undeclared identifier\n",
    "1>c:\\users\\trent\\home\\src\\perfecthash\\src\\perfecthash\\chm01.c(930): error C2065: 'PH_E_ERROR_DURING_CLOSE_VCPROJECT_BENCHMARK_FULL_EXE_FILE': undeclared identifier\n",
    "1>c:\\users\\trent\\home\\src\\perfecthash\\src\\perfecthash\\chm01.c(930): error C2065: 'PH_E_ERROR_DURING_CLOSE_VCPROJECT_BENCHMARK_INDEX_EXE_FILE': undeclared identifier\n",
    "1>c:\\users\\trent\\home\\src\\perfecthash\\src\\perfecthash\\chm01.c(930): error C2065: 'PH_E_ERROR_DURING_CLOSE_VSSOLUTION_FILE': undeclared identifier\n",
    "1>c:\\users\\trent\\home\\src\\perfecthash\\src\\perfecthash\\chm01.c(930): error C2065: 'PH_E_ERROR_DURING_CLOSE_C_HEADER_COMPILED_PERFECT_HASH_FILE': undeclared identifier\n",
    "1>c:\\users\\trent\\home\\src\\perfecthash\\src\\perfecthash\\chm01.c(930): error C2065: 'PH_E_ERROR_DURING_CLOSE_C_HEADER_COMPILED_PERFECT_HASH_MACRO_GLUE_FILE': undeclared identifier\n",
    "1>c:\\users\\trent\\home\\src\\perfecthash\\src\\perfecthash\\chm01.c(930): error C2065: 'PH_E_ERROR_DURING_CLOSE_VCPROPS_COMPILED_PERFECT_HASH_FILE': undeclared identifier\n",
    "1>c:\\users\\trent\\home\\src\\perfecthash\\src\\perfecthash\\chm01.c(930): error C2065: 'PH_E_ERROR_DURING_CLOSE_TABLE_STATS_TEXT_FILE': undeclared identifier\"\"\""
   ]
  },
  {
   "cell_type": "code",
   "execution_count": 2,
   "metadata": {
    "collapsed": true
   },
   "outputs": [],
   "source": [
    "lines = text.splitlines()"
   ]
  },
  {
   "cell_type": "code",
   "execution_count": 3,
   "metadata": {
    "collapsed": true
   },
   "outputs": [],
   "source": [
    "l = lines[0]"
   ]
  },
  {
   "cell_type": "code",
   "execution_count": 4,
   "metadata": {},
   "outputs": [
    {
     "data": {
      "text/plain": [
       "\"'PH_E_ERROR_DURING_CLOSE_TABLE_FILE':\""
      ]
     },
     "execution_count": 4,
     "metadata": {},
     "output_type": "execute_result"
    }
   ],
   "source": [
    "l.split(' ')[3]"
   ]
  },
  {
   "cell_type": "code",
   "execution_count": 10,
   "metadata": {
    "collapsed": true
   },
   "outputs": [],
   "source": [
    "def extract_symbolic_name(line):\n",
    "    name = line.split(' ')[3]\n",
    "    name = name.replace(\"'\", '').replace(':', '')\n",
    "    return name "
   ]
  },
  {
   "cell_type": "code",
   "execution_count": 11,
   "metadata": {},
   "outputs": [
    {
     "name": "stdout",
     "output_type": "stream",
     "text": [
      "PH_E_ERROR_DURING_CLOSE_TABLE_FILE\n"
     ]
    }
   ],
   "source": [
    "print(extract_symbolic_name(lines[0]))"
   ]
  },
  {
   "cell_type": "code",
   "execution_count": 18,
   "metadata": {
    "collapsed": true
   },
   "outputs": [],
   "source": [
    "template = \"\"\"\\\n",
    "MessageId=%(message_id)s\n",
    "Severity=Fail\n",
    "Facility=ITF\n",
    "SymbolicName=%(symbolic_name)s\n",
    "Language=English\n",
    "%(human_desc)s.\n",
    ".\n",
    "\"\"\""
   ]
  },
  {
   "cell_type": "code",
   "execution_count": 23,
   "metadata": {
    "collapsed": true
   },
   "outputs": [],
   "source": [
    "def gen_error(message_id, symbolic_name):\n",
    "    human_desc = symbolic_name.lower().replace('_', ' ')\n",
    "    human_desc = human_desc.replace('ph e error during close', 'Error closing')\n",
    "    human_desc = human_desc.replace('vcproject', 'VC project')\n",
    "    human_desc = human_desc.replace('vssolution', 'VS solution')\n",
    "    human_desc = human_desc.replace('c source', 'C source')\n",
    "    human_desc = human_desc.replace('c header', 'C header')\n",
    "    return template % locals()\n",
    "    "
   ]
  },
  {
   "cell_type": "code",
   "execution_count": 24,
   "metadata": {},
   "outputs": [
    {
     "name": "stdout",
     "output_type": "stream",
     "text": [
      "MessageId=0x328\n",
      "Severity=Fail\n",
      "Facility=ITF\n",
      "SymbolicName=PH_E_ERROR_DURING_CLOSE_C_HEADER_FILE\n",
      "Language=English\n",
      "Error closing C header file.\n",
      ".\n",
      "\n"
     ]
    }
   ],
   "source": [
    "print(gen_error('0x328', 'PH_E_ERROR_DURING_CLOSE_C_HEADER_FILE'))"
   ]
  },
  {
   "cell_type": "code",
   "execution_count": 25,
   "metadata": {
    "collapsed": true
   },
   "outputs": [],
   "source": [
    "def gen_new_errors(start_at, lines):\n",
    "    index = int(start_at)\n",
    "    errors = []\n",
    "    for line in lines:\n",
    "        name = extract_symbolic_name(line)\n",
    "        error = gen_error(hex(index), name)\n",
    "        errors.append(error)\n",
    "        index = index + 1\n",
    "    return '\\n'.join(errors)"
   ]
  },
  {
   "cell_type": "code",
   "execution_count": 28,
   "metadata": {
    "collapsed": true
   },
   "outputs": [],
   "source": [
    "error_text = gen_new_errors(0x328, lines)"
   ]
  },
  {
   "cell_type": "code",
   "execution_count": 30,
   "metadata": {},
   "outputs": [],
   "source": [
    "#print(error_text)"
   ]
  },
  {
   "cell_type": "code",
   "execution_count": 32,
   "metadata": {
    "collapsed": true
   },
   "outputs": [],
   "source": [
    "#from tpn.clipboard import *"
   ]
  },
  {
   "cell_type": "code",
   "execution_count": 33,
   "metadata": {},
   "outputs": [],
   "source": [
    "#cb(error_text)"
   ]
  }
 ],
 "metadata": {
  "kernelspec": {
   "display_name": "Python 3",
   "language": "python",
   "name": "python3"
  },
  "language_info": {
   "codemirror_mode": {
    "name": "ipython",
    "version": 3
   },
   "file_extension": ".py",
   "mimetype": "text/x-python",
   "name": "python",
   "nbconvert_exporter": "python",
   "pygments_lexer": "ipython3",
   "version": "3.5.3"
  }
 },
 "nbformat": 4,
 "nbformat_minor": 2
}
